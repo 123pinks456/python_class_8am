{
 "cells": [
  {
   "cell_type": "code",
   "execution_count": null,
   "id": "c93e8eb7",
   "metadata": {},
   "outputs": [],
   "source": [
    "def cal():\n",
    "    l = int(input(\"enter l= \"))\n",
    "    b = int(input(\"enter b= \"))\n",
    "    a = l*b\n",
    "    print(a)\n",
    "    \n",
    "\n",
    "cal()\n",
    "    "
   ]
  },
  {
   "cell_type": "markdown",
   "id": "b66054ba",
   "metadata": {},
   "source": []
  },
  {
   "cell_type": "code",
   "execution_count": null,
   "id": "0e58e2b5",
   "metadata": {},
   "outputs": [],
   "source": [
    "def cal(x,y):\n",
    "    a=x*y\n",
    "    print(a)\n",
    "l= int(input(\"enter l= \"))\n",
    "b= int(input(\"enter b= \"))\n",
    "cal(l,b)"
   ]
  },
  {
   "cell_type": "code",
   "execution_count": 3,
   "id": "68757e07",
   "metadata": {},
   "outputs": [
    {
     "name": "stdout",
     "output_type": "stream",
     "text": [
      "priyanka\n"
     ]
    }
   ],
   "source": [
    "print(\"priyanka\")\n"
   ]
  },
  {
   "cell_type": "code",
   "execution_count": 4,
   "id": "1984f67c",
   "metadata": {},
   "outputs": [
    {
     "name": "stdout",
     "output_type": "stream",
     "text": [
      "5\n"
     ]
    }
   ],
   "source": [
    "print (2+3)"
   ]
  }
 ],
 "metadata": {
  "kernelspec": {
   "display_name": "Python 3 (ipykernel)",
   "language": "python",
   "name": "python3"
  },
  "language_info": {
   "codemirror_mode": {
    "name": "ipython",
    "version": 3
   },
   "file_extension": ".py",
   "mimetype": "text/x-python",
   "name": "python",
   "nbconvert_exporter": "python",
   "pygments_lexer": "ipython3",
   "version": "3.11.7"
  }
 },
 "nbformat": 4,
 "nbformat_minor": 5
}
