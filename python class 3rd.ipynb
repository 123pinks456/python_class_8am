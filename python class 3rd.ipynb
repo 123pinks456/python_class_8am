{
 "cells": [
  {
   "cell_type": "code",
   "execution_count": 5,
   "id": "3867a248",
   "metadata": {},
   "outputs": [
    {
     "name": "stdout",
     "output_type": "stream",
     "text": [
      "enter name= priyanka \n",
      "enter age= 34\n",
      "enter add= kathmandu\n",
      "hello world I am priyanka My age is 34I am fromkathmandu\n"
     ]
    }
   ],
   "source": [
    "a = input(\"enter name= \")\n",
    "b = int(input(\"enter age= \"))\n",
    "c = input(\"enter add= \")\n",
    "info= (\"hello world I am \")+ a + (\"My age is \") + str(b) + (\"I am from\") + c\n",
    "print (info)"
   ]
  },
  {
   "cell_type": "code",
   "execution_count": 8,
   "id": "0a401645",
   "metadata": {},
   "outputs": [
    {
     "name": "stdout",
     "output_type": "stream",
     "text": [
      "enter value of a=9\n",
      "9 is smaller than 10\n"
     ]
    }
   ],
   "source": [
    "a= int(input(\"enter value of a=\"))\n",
    "if a>10:\n",
    "    print(a, \"is greater than 10\")\n",
    "else:\n",
    "    print(a, \"is smaller than 10\")"
   ]
  },
  {
   "cell_type": "code",
   "execution_count": 10,
   "id": "f6477548",
   "metadata": {},
   "outputs": [
    {
     "name": "stdout",
     "output_type": "stream",
     "text": [
      "enter a= shyam\n",
      "shyam is bitch\n"
     ]
    }
   ],
   "source": [
    "a= input(\"enter a= \")\n",
    "if a== (\"priyanka\"):\n",
    "    print (a,\" I love you\")\n",
    "else:\n",
    "    print(a, \"is bitch\")"
   ]
  },
  {
   "cell_type": "code",
   "execution_count": 12,
   "id": "8b5b2862",
   "metadata": {},
   "outputs": [
    {
     "name": "stdout",
     "output_type": "stream",
     "text": [
      "enter value of a=12\n",
      "12 is greater than 10\n"
     ]
    }
   ],
   "source": [
    "a= int(input(\"enter value of a=\"))\n",
    "if a>10:\n",
    "    print(a, \"is greater than 10\")\n",
    "elif a>=10:\n",
    "    print(a, \"is equal to 10\")\n",
    "else:\n",
    "    print(a, \"is smaller than 10\")"
   ]
  },
  {
   "cell_type": "code",
   "execution_count": 15,
   "id": "72ed936c",
   "metadata": {},
   "outputs": [
    {
     "name": "stdout",
     "output_type": "stream",
     "text": [
      "enter value of a=3\n",
      "3 is odd number\n"
     ]
    }
   ],
   "source": [
    "a= int(input(\"enter value of a=\"))\n",
    "if(a%2)== 0:\n",
    "    print(a, \"is even number\")\n",
    "else:\n",
    "    print(a, \"is odd number\")\n"
   ]
  },
  {
   "cell_type": "code",
   "execution_count": 1,
   "id": "4b6e2f9e",
   "metadata": {},
   "outputs": [
    {
     "name": "stdout",
     "output_type": "stream",
     "text": [
      "enter science= 45\n",
      "enter physics= 56\n",
      "enter biology= 67\n",
      "enter math= 34\n",
      "enter english= 67\n",
      "enter nepali= 87\n",
      "total =  356\n",
      "per =  71.2\n",
      "Grade=  B\n"
     ]
    }
   ],
   "source": [
    "science=int(input(\"enter science= \"))\n",
    "physics=int(input(\"enter physics= \"))\n",
    "biology=int(input(\"enter biology= \"))\n",
    "math=int(input(\"enter math= \"))\n",
    "english=int(input(\"enter english= \"))\n",
    "nepali=int(input(\"enter nepali= \"))\n",
    "add= science+physics+biology+math+english+nepali\n",
    "per=add/5\n",
    "if per>=80:\n",
    "    Grade =\"A\"\n",
    "elif per>=60:\n",
    "    Grade =\"B\"\n",
    "elif per>=40:\n",
    "    Grade= \"C\"\n",
    "else:\n",
    "    Grade= \"F\"\n",
    "    \n",
    "print (\"total = \", add)\n",
    "print (\"per = \",per)\n",
    "print (\"Grade= \",Grade)\n"
   ]
  },
  {
   "cell_type": "code",
   "execution_count": 10,
   "id": "ee10e2a5",
   "metadata": {},
   "outputs": [
    {
     "name": "stdout",
     "output_type": "stream",
     "text": [
      "enter a= 2\n",
      "enter b= 4\n",
      "enter + or - or * or //\n",
      "0.5\n"
     ]
    }
   ],
   "source": [
    "a= int(input(\"enter a= \"))\n",
    "b= int(input(\"enter b= \"))\n",
    "o= input(\"enter + or - or * or /\")\n",
    "if o == \"+\":\n",
    "    print (a+b)\n",
    "elif o== \"-\":\n",
    "    print(a-b)\n",
    "elif o== \"*\":\n",
    "    print (a*b)\n",
    "elif o==\"/\"and b!=o:\n",
    "    print(a/b)\n",
    "elif o==\"/\" and b==0:\n",
    "    print(\"the value of b cannot be Zero\")\n",
    "else:\n",
    "    print(\"invalid operator\")\n",
    "\n",
    "\n",
    "    "
   ]
  },
  {
   "cell_type": "code",
   "execution_count": 17,
   "id": "0db9bf9c",
   "metadata": {},
   "outputs": [
    {
     "name": "stdout",
     "output_type": "stream",
     "text": [
      "enter a= 2\n",
      "the number is +ve and even\n"
     ]
    }
   ],
   "source": [
    "a= int(input(\"enter a= \"))\n",
    "if a >= 0:\n",
    "    if a%2 == 0:\n",
    "        print( \"the number is +ve and even\")\n",
    "    else:\n",
    "        print(\"the number is +ve and odd\")\n",
    "else:\n",
    "    if a%2 != 0:\n",
    "        print(\"the number is -ve and odd\")\n",
    "    else:\n",
    "        print(\"the number is -ve and even\")\n",
    "        "
   ]
  },
  {
   "cell_type": "code",
   "execution_count": null,
   "id": "f0fe40db",
   "metadata": {},
   "outputs": [],
   "source": [
    "science=int(input(\"enter science= \"))\n",
    "physics=int(input(\"enter physics= \"))\n",
    "biology=int(input(\"enter biology= \"))\n",
    "math=int(input(\"enter math= \"))\n",
    "english=int(input(\"enter english= \"))\n",
    "nepali=int(input(\"enter nepali= \"))\n",
    "if science>= 32 and physics >=32 and math>= 32 and english >=32 and nepali >=32:\n",
    "    add= science+physics+biology+math+english+nepali\n",
    "    per=add/5\n",
    "    if per>=80:\n",
    "        Grade =\"A\"\n",
    "    elif per>=60:\n",
    "        Grade =\"B\"\n",
    "    elif per>=40:\n",
    "        Grade= \"C\"\n",
    "    else:\n",
    "        Grade= \"F\"\n",
    "    \n",
    "print (\"total = \", add)\n",
    "print (\"per = \",per)\n",
    "print (\"Grade= \",Grade)\n"
   ]
  },
  {
   "cell_type": "markdown",
   "id": "c5b8a259",
   "metadata": {},
   "source": []
  },
  {
   "cell_type": "code",
   "execution_count": null,
   "id": "c114224c",
   "metadata": {},
   "outputs": [],
   "source": []
  },
  {
   "cell_type": "code",
   "execution_count": null,
   "id": "d88210c3",
   "metadata": {},
   "outputs": [],
   "source": []
  }
 ],
 "metadata": {
  "kernelspec": {
   "display_name": "Python 3 (ipykernel)",
   "language": "python",
   "name": "python3"
  },
  "language_info": {
   "codemirror_mode": {
    "name": "ipython",
    "version": 3
   },
   "file_extension": ".py",
   "mimetype": "text/x-python",
   "name": "python",
   "nbconvert_exporter": "python",
   "pygments_lexer": "ipython3",
   "version": "3.11.7"
  }
 },
 "nbformat": 4,
 "nbformat_minor": 5
}
