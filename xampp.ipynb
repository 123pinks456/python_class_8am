{
 "cells": [
  {
   "cell_type": "code",
   "execution_count": 2,
   "id": "39ebb6e8",
   "metadata": {},
   "outputs": [
    {
     "name": "stdout",
     "output_type": "stream",
     "text": [
      "Collecting mysql-connector-python\n",
      "  Downloading mysql_connector_python-8.4.0-cp311-cp311-macosx_13_0_arm64.whl.metadata (1.9 kB)\n",
      "Downloading mysql_connector_python-8.4.0-cp311-cp311-macosx_13_0_arm64.whl (13.5 MB)\n",
      "\u001b[2K   \u001b[90m━━━━━━━━━━━━━━━━━━━━━━━━━━━━━━━━━━━━━━━━\u001b[0m \u001b[32m13.5/13.5 MB\u001b[0m \u001b[31m16.3 MB/s\u001b[0m eta \u001b[36m0:00:00\u001b[0m00:01\u001b[0m00:01\u001b[0m\n",
      "\u001b[?25hInstalling collected packages: mysql-connector-python\n",
      "Successfully installed mysql-connector-python-8.4.0\n"
     ]
    }
   ],
   "source": [
    "!pip install mysql-connector-python"
   ]
  },
  {
   "cell_type": "code",
   "execution_count": 13,
   "id": "ec85cfc7",
   "metadata": {},
   "outputs": [],
   "source": [
    "import mysql.connector \n",
    "database= mysql.connector.connect(\n",
    "     host=\"localhost\",\n",
    "     user=\"root\",\n",
    "     password= \"\",\n",
    "     database= \"python_class\")\n",
    "db= database.cursor()"
   ]
  },
  {
   "cell_type": "code",
   "execution_count": 14,
   "id": "f109c202",
   "metadata": {},
   "outputs": [
    {
     "name": "stdout",
     "output_type": "stream",
     "text": [
      "(1, 'priyanka chaudhary', 60, 70, 70, 60, 60, 320, 64, 'B')\n",
      "(2, 'Roshis shrestha ', 80, 90, 70, 67, 87, 394, 78, 'A')\n",
      "(3, 'ronish shrestha ', 80, 90, 70, 60, 50, 350, 70, 'B-')\n",
      "(4, 'sita', 60, 80, 70, 60, 50, 460, 69, 'B')\n"
     ]
    }
   ],
   "source": [
    "db.execute(\"SELECT* FROM python_class\")\n",
    "result = db.fetchall()\n",
    "for x in result:\n",
    "    print(x)"
   ]
  },
  {
   "cell_type": "code",
   "execution_count": 22,
   "id": "91bc7fb6",
   "metadata": {},
   "outputs": [
    {
     "name": "stdout",
     "output_type": "stream",
     "text": [
      "1 record inserted\n"
     ]
    }
   ],
   "source": [
    "sql=''' INSERT INTO `python_class` (`S.N`, `Name`, `physics`, `chemistry`, `math`, `english`, `nepali`, `total`, `per`, `grade`) VALUES ('9', 'ram shrestha', '60', '60', '70', '80', '70', '360', '76', 'B');'''\n",
    "db.execute(sql)\n",
    "database.commit()\n",
    "print(db.rowcount,\"record inserted\")"
   ]
  },
  {
   "cell_type": "code",
   "execution_count": 25,
   "id": "3f9c0edb",
   "metadata": {},
   "outputs": [
    {
     "name": "stdout",
     "output_type": "stream",
     "text": [
      "enter name = dfjejri\n",
      "enter physics marks= 70\n",
      "enter chemistry marks= 70\n",
      "enter math marks= 70\n",
      "enter english marks= 70\n",
      "enter nepali marks= 70\n",
      "1 record inserted\n"
     ]
    }
   ],
   "source": [
    "Name= input(\"enter name = \")\n",
    "physics= int(input(\"enter physics marks= \"))\n",
    "chemistry= int(input(\"enter chemistry marks= \"))\n",
    "math= int(input(\"enter math marks= \"))\n",
    "english= int(input(\"enter english marks= \"))\n",
    "nepali=int(input(\"enter nepali marks= \"))\n",
    "\n",
    "total= physics+chemistry+math+english+nepali\n",
    "per= total/5\n",
    "\n",
    "if per>= 80:\n",
    "    grade=\"A\"\n",
    "elif per>= 60:\n",
    "    grade>=\"B\"\n",
    "elif per>=45:\n",
    "    grade =\"C\"\n",
    "else:\n",
    "    grade=\"F\"\n",
    "    \n",
    "sql= f''' INSERT INTO `python_class`(`Name`, `physics`, `chemistry`, `math`, `english`, `nepali`, `total`, `per`, `grade`) \n",
    "     VALUES (`Name`, `physics`, `chemistry`, `math`, `english`, `nepali`, `total`, `per`, `grade`);'''\n",
    "db.execute(sql)\n",
    "database.commit()\n",
    "print(db.rowcount,\"record inserted\")"
   ]
  },
  {
   "cell_type": "code",
   "execution_count": 1,
   "id": "6cd26044",
   "metadata": {},
   "outputs": [
    {
     "data": {
      "text/plain": [
       "'/Users/roshisshrestha/Documents/python class /Python_class_8am '"
      ]
     },
     "execution_count": 1,
     "metadata": {},
     "output_type": "execute_result"
    }
   ],
   "source": [
    "pwd"
   ]
  },
  {
   "cell_type": "code",
   "execution_count": null,
   "id": "744d90be",
   "metadata": {},
   "outputs": [],
   "source": []
  }
 ],
 "metadata": {
  "kernelspec": {
   "display_name": "Python 3 (ipykernel)",
   "language": "python",
   "name": "python3"
  },
  "language_info": {
   "codemirror_mode": {
    "name": "ipython",
    "version": 3
   },
   "file_extension": ".py",
   "mimetype": "text/x-python",
   "name": "python",
   "nbconvert_exporter": "python",
   "pygments_lexer": "ipython3",
   "version": "3.11.7"
  }
 },
 "nbformat": 4,
 "nbformat_minor": 5
}
