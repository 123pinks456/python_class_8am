{
 "cells": [
  {
   "cell_type": "code",
   "execution_count": 1,
   "id": "c6018c83-24a3-438c-9f0f-ff38722bda34",
   "metadata": {},
   "outputs": [
    {
     "ename": "SyntaxError",
     "evalue": "Missing parentheses in call to 'print'. Did you mean print(...)? (3346677203.py, line 1)",
     "output_type": "error",
     "traceback": [
      "\u001b[0;36m  Cell \u001b[0;32mIn[1], line 1\u001b[0;36m\u001b[0m\n\u001b[0;31m    print\"hello world\"\u001b[0m\n\u001b[0m    ^\u001b[0m\n\u001b[0;31mSyntaxError\u001b[0m\u001b[0;31m:\u001b[0m Missing parentheses in call to 'print'. Did you mean print(...)?\n"
     ]
    }
   ],
   "source": [
    "print\"hello world\""
   ]
  },
  {
   "cell_type": "code",
   "execution_count": 2,
   "id": "694e0393-4e01-47ac-96b0-e588ccf766dc",
   "metadata": {},
   "outputs": [
    {
     "name": "stdout",
     "output_type": "stream",
     "text": [
      "hello world\n"
     ]
    }
   ],
   "source": [
    "print(\"hello world\")\n"
   ]
  },
  {
   "cell_type": "code",
   "execution_count": 5,
   "id": "9e7c1e30-0642-44cd-a775-7abb91e926be",
   "metadata": {},
   "outputs": [
    {
     "name": "stdout",
     "output_type": "stream",
     "text": [
      "Enter a number = 0\n",
      "0  is a composite number\n"
     ]
    }
   ],
   "source": [
    "n = int(input(\"Enter a number = \"))\n",
    "i = 1\n",
    "cal = 0\n",
    "while i <= n:\n",
    "    if n % i == 0 :\n",
    "        cal = cal + 1\n",
    "    i = i + 1\n",
    "    \n",
    "if cal <= 2 and n!=1 and n !=0:\n",
    "    print(n, \" is a prime number\")\n",
    "else:\n",
    "    print(n, \" is a composite number\")"
   ]
  },
  {
   "cell_type": "code",
   "execution_count": 2,
   "id": "e8226fb9-47cb-4cdd-ad29-2aa5844b374e",
   "metadata": {},
   "outputs": [
    {
     "name": "stdout",
     "output_type": "stream",
     "text": [
      "4\n",
      "hello world\n"
     ]
    }
   ],
   "source": [
    "print(2*2)\n",
    "print(\"hello world\")\n"
   ]
  },
  {
   "cell_type": "code",
   "execution_count": 4,
   "id": "0ac921a7",
   "metadata": {},
   "outputs": [
    {
     "name": "stdout",
     "output_type": "stream",
     "text": [
      "2+2\n"
     ]
    }
   ],
   "source": [
    "print(\"2+2\")"
   ]
  },
  {
   "cell_type": "code",
   "execution_count": 6,
   "id": "e990145f",
   "metadata": {},
   "outputs": [
    {
     "data": {
      "text/plain": [
       "4"
      ]
     },
     "execution_count": 6,
     "metadata": {},
     "output_type": "execute_result"
    }
   ],
   "source": [
    "2+2"
   ]
  },
  {
   "cell_type": "code",
   "execution_count": 7,
   "id": "5dfc4e15",
   "metadata": {},
   "outputs": [
    {
     "data": {
      "text/plain": [
       "2"
      ]
     },
     "execution_count": 7,
     "metadata": {},
     "output_type": "execute_result"
    }
   ],
   "source": [
    "4-2"
   ]
  },
  {
   "cell_type": "code",
   "execution_count": 8,
   "id": "47b52eca",
   "metadata": {},
   "outputs": [
    {
     "name": "stdout",
     "output_type": "stream",
     "text": [
      "2\n"
     ]
    }
   ],
   "source": [
    "a = 2\n",
    "print(a)"
   ]
  },
  {
   "cell_type": "code",
   "execution_count": 10,
   "id": "a9c6095d",
   "metadata": {},
   "outputs": [
    {
     "name": "stdout",
     "output_type": "stream",
     "text": [
      "whats your number= 999\n"
     ]
    }
   ],
   "source": [
    "contact= input(\"whats your number= \")\n"
   ]
  },
  {
   "cell_type": "code",
   "execution_count": 11,
   "id": "0aa9511b",
   "metadata": {},
   "outputs": [
    {
     "name": "stdout",
     "output_type": "stream",
     "text": [
      "999\n"
     ]
    }
   ],
   "source": [
    "print (contact)"
   ]
  },
  {
   "cell_type": "code",
   "execution_count": 13,
   "id": "e95c7d20",
   "metadata": {},
   "outputs": [
    {
     "name": "stdout",
     "output_type": "stream",
     "text": [
      "999 is fake number\n"
     ]
    }
   ],
   "source": [
    "print (contact + \" is fake number\")"
   ]
  },
  {
   "cell_type": "code",
   "execution_count": 3,
   "id": "fa905d02",
   "metadata": {},
   "outputs": [
    {
     "name": "stdout",
     "output_type": "stream",
     "text": [
      "Enter name = priyanak\n",
      "Enter age = 32\n",
      "Enter add = kathmandu\n",
      "Hello World I am priyanak I am 32 I am from kathmandu\n"
     ]
    }
   ],
   "source": [
    "name = input('Enter name = ')\n",
    "age = int(input(\"Enter age = \"))\n",
    "add = input(\"Enter add = \")\n",
    "info = \"Hello World I am \" + name + \" I am \" + str(age) + \" I am from \" + add\n",
    "print(info)"
   ]
  },
  {
   "cell_type": "code",
   "execution_count": 4,
   "id": "7984becf",
   "metadata": {},
   "outputs": [
    {
     "ename": "ZeroDivisionError",
     "evalue": "division by zero",
     "output_type": "error",
     "traceback": [
      "\u001b[0;31m---------------------------------------------------------------------------\u001b[0m",
      "\u001b[0;31mZeroDivisionError\u001b[0m                         Traceback (most recent call last)",
      "Cell \u001b[0;32mIn[4], line 3\u001b[0m\n\u001b[1;32m      1\u001b[0m a \u001b[38;5;241m=\u001b[39m \u001b[38;5;28;01mTrue\u001b[39;00m\n\u001b[1;32m      2\u001b[0m b \u001b[38;5;241m=\u001b[39m \u001b[38;5;28;01mFalse\u001b[39;00m\n\u001b[0;32m----> 3\u001b[0m c \u001b[38;5;241m=\u001b[39m a \u001b[38;5;241m/\u001b[39m b\n\u001b[1;32m      4\u001b[0m \u001b[38;5;28mprint\u001b[39m(c)\n",
      "\u001b[0;31mZeroDivisionError\u001b[0m: division by zero"
     ]
    }
   ],
   "source": [
    "a = True\n",
    "b = False\n",
    "c = a / b\n",
    "print(c)"
   ]
  },
  {
   "cell_type": "code",
   "execution_count": 8,
   "id": "c03b7902",
   "metadata": {},
   "outputs": [
    {
     "ename": "SyntaxError",
     "evalue": "expected ':' (2491514864.py, line 2)",
     "output_type": "error",
     "traceback": [
      "\u001b[0;36m  Cell \u001b[0;32mIn[8], line 2\u001b[0;36m\u001b[0m\n\u001b[0;31m    if a == priyanka\u001b[0m\n\u001b[0m                    ^\u001b[0m\n\u001b[0;31mSyntaxError\u001b[0m\u001b[0;31m:\u001b[0m expected ':'\n"
     ]
    }
   ],
   "source": [
    "a= input(\"enter name= \")\n",
    "if a == priyanka\n",
    "    print(a + \"is my best friend\")\n"
   ]
  },
  {
   "cell_type": "code",
   "execution_count": null,
   "id": "aa7e9a71",
   "metadata": {},
   "outputs": [],
   "source": [
    "a= input(\"enter name= \")\n",
    "if a == priyanka:\n",
    "    print(a, \"is my best friend\")\n"
   ]
  },
  {
   "cell_type": "code",
   "execution_count": null,
   "id": "319a17d1",
   "metadata": {},
   "outputs": [],
   "source": [
    "a= int(input(\"enter value of a= \"))\n",
    "b= int(input(\"enter value of b= \"))\n",
    "area =a*b\n",
    "print(\"area= \", area)"
   ]
  },
  {
   "cell_type": "code",
   "execution_count": null,
   "id": "a1e0e7de",
   "metadata": {},
   "outputs": [],
   "source": [
    "p= int(input(\"enter value of p= \"))\n",
    "t= float(input(\"enter value of t= \"))\n",
    "r= float(input(\"enter vlaur of r= \"))\n",
    "i =(p*t*r)/100\n",
    "print(\"interest= \", i)"
   ]
  },
  {
   "cell_type": "code",
   "execution_count": null,
   "id": "87ebb6ed",
   "metadata": {},
   "outputs": [],
   "source": []
  }
 ],
 "metadata": {
  "kernelspec": {
   "display_name": "Python 3 (ipykernel)",
   "language": "python",
   "name": "python3"
  },
  "language_info": {
   "codemirror_mode": {
    "name": "ipython",
    "version": 3
   },
   "file_extension": ".py",
   "mimetype": "text/x-python",
   "name": "python",
   "nbconvert_exporter": "python",
   "pygments_lexer": "ipython3",
   "version": "3.11.7"
  }
 },
 "nbformat": 4,
 "nbformat_minor": 5
}
