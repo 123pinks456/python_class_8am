{
 "cells": [
  {
   "cell_type": "code",
   "execution_count": 1,
   "id": "add58efb",
   "metadata": {},
   "outputs": [],
   "source": [
    "#indexing\n",
    "#multiple and duplicate data or values\n",
    "#ordered \n",
    "#mutable \n"
   ]
  },
  {
   "cell_type": "code",
   "execution_count": 3,
   "id": "6ff40af3",
   "metadata": {},
   "outputs": [
    {
     "name": "stdout",
     "output_type": "stream",
     "text": [
      "<class 'dict'>\n"
     ]
    }
   ],
   "source": [
    "d= {}\n",
    "d= dict()\n",
    "print(type(d))"
   ]
  },
  {
   "cell_type": "code",
   "execution_count": null,
   "id": "4d4d7016",
   "metadata": {},
   "outputs": [],
   "source": [
    "#d= {<key>:<value>}"
   ]
  },
  {
   "cell_type": "code",
   "execution_count": 10,
   "id": "72362fce",
   "metadata": {},
   "outputs": [
    {
     "name": "stdout",
     "output_type": "stream",
     "text": [
      "apple\n"
     ]
    }
   ],
   "source": [
    "d= {\"a\":\"apple\",\"b\":\"ball\"}\n",
    "print(d[\"a\"])\n"
   ]
  },
  {
   "cell_type": "code",
   "execution_count": 8,
   "id": "6187f7b6",
   "metadata": {},
   "outputs": [
    {
     "ename": "SyntaxError",
     "evalue": "':' expected after dictionary key (3375544356.py, line 1)",
     "output_type": "error",
     "traceback": [
      "\u001b[0;36m  Cell \u001b[0;32mIn[8], line 1\u001b[0;36m\u001b[0m\n\u001b[0;31m    d= {\"a\":\"apple\",\"b:\",\"ball\"}\u001b[0m\n\u001b[0m                       ^\u001b[0m\n\u001b[0;31mSyntaxError\u001b[0m\u001b[0;31m:\u001b[0m ':' expected after dictionary key\n"
     ]
    }
   ],
   "source": [
    "d= {\"a\":\"apple\",\"b:\",\"ball\"}\n",
    "print(a[\"a\"])"
   ]
  },
  {
   "cell_type": "code",
   "execution_count": 11,
   "id": "52f49f04",
   "metadata": {},
   "outputs": [
    {
     "name": "stdout",
     "output_type": "stream",
     "text": [
      "apple\n",
      "ball\n"
     ]
    }
   ],
   "source": [
    "d= {\"a\":\"apple\",\"b\":\"ball\"}\n",
    "print(d[\"a\"])\n",
    "print(d[\"b\"])\n"
   ]
  },
  {
   "cell_type": "code",
   "execution_count": 13,
   "id": "f197706c",
   "metadata": {},
   "outputs": [
    {
     "data": {
      "text/plain": [
       "{'a': 'apple', 'b': 'ball', 'c': 'call'}"
      ]
     },
     "execution_count": 13,
     "metadata": {},
     "output_type": "execute_result"
    }
   ],
   "source": [
    "a={}\n",
    "a[\"a\"]=\"apple\"\n",
    "a[\"b\"]=\"ball\"\n",
    "a[\"c\"]=\"call\"\n",
    "a"
   ]
  },
  {
   "cell_type": "code",
   "execution_count": 19,
   "id": "25988ae6",
   "metadata": {},
   "outputs": [
    {
     "ename": "ValueError",
     "evalue": "invalid literal for int() with base 10: 'enter n= '",
     "output_type": "error",
     "traceback": [
      "\u001b[0;31m---------------------------------------------------------------------------\u001b[0m",
      "\u001b[0;31mValueError\u001b[0m                                Traceback (most recent call last)",
      "Cell \u001b[0;32mIn[19], line 2\u001b[0m\n\u001b[1;32m      1\u001b[0m a\u001b[38;5;241m=\u001b[39m{}\n\u001b[0;32m----> 2\u001b[0m n\u001b[38;5;241m=\u001b[39m \u001b[38;5;28mint\u001b[39m(\u001b[38;5;28mint\u001b[39m(\u001b[38;5;124m\"\u001b[39m\u001b[38;5;124menter n= \u001b[39m\u001b[38;5;124m\"\u001b[39m))\n\u001b[1;32m      3\u001b[0m \u001b[38;5;28;01mfor\u001b[39;00m i \u001b[38;5;129;01min\u001b[39;00m \u001b[38;5;28mrange\u001b[39m(n):\n\u001b[1;32m      4\u001b[0m     name\u001b[38;5;241m=\u001b[39m \u001b[38;5;28minput\u001b[39m(\u001b[38;5;124m\"\u001b[39m\u001b[38;5;124menter name= \u001b[39m\u001b[38;5;124m\"\u001b[39m)\n",
      "\u001b[0;31mValueError\u001b[0m: invalid literal for int() with base 10: 'enter n= '"
     ]
    }
   ],
   "source": [
    "a={}\n",
    "n= int(int(\"enter n= \"))\n",
    "for i in range(n):\n",
    "    name= input(\"enter name= \")\n",
    "    phone= int(input(\"enter phone= \"))\n",
    "    a[name]= phone\n",
    "\n",
    "print(a)\n",
    "    "
   ]
  },
  {
   "cell_type": "code",
   "execution_count": 21,
   "id": "4aaf8b03",
   "metadata": {},
   "outputs": [
    {
     "name": "stdout",
     "output_type": "stream",
     "text": [
      "enter n= 2\n",
      "enter name= ram\n",
      "enter phone= 098776666\n",
      "enter name= shyam\n",
      "enter phone= 0988777655\n",
      "{'ram': 98776666, 'shyam': 988777655}\n"
     ]
    }
   ],
   "source": [
    "a={}\n",
    "n= int(input(\"enter n= \"))\n",
    "for i in range(n):\n",
    "    name= input(\"enter name= \")\n",
    "    phone= int(input(\"enter phone= \"))\n",
    "    a[name]= phone\n",
    "\n",
    "print(a)"
   ]
  },
  {
   "cell_type": "code",
   "execution_count": 28,
   "id": "2622ef42",
   "metadata": {},
   "outputs": [
    {
     "name": "stdout",
     "output_type": "stream",
     "text": [
      "98776666\n",
      "988777655\n"
     ]
    }
   ],
   "source": [
    "a= {'ram': 98776666, 'shyam': 988777655}\n",
    "for i in a.values():\n",
    "    print (i)"
   ]
  },
  {
   "cell_type": "code",
   "execution_count": 27,
   "id": "27524289",
   "metadata": {},
   "outputs": [
    {
     "name": "stdout",
     "output_type": "stream",
     "text": [
      "98776666\n",
      "988777655\n"
     ]
    }
   ],
   "source": [
    "a= {'ram': 98776666, 'shyam': 988777655}\n",
    "for i in a.values():\n",
    "    print (i)"
   ]
  },
  {
   "cell_type": "code",
   "execution_count": 29,
   "id": "85fefa59",
   "metadata": {},
   "outputs": [
    {
     "name": "stdout",
     "output_type": "stream",
     "text": [
      "('ram', 98776666)\n",
      "('shyam', 988777655)\n"
     ]
    }
   ],
   "source": [
    "a= {'ram': 98776666, 'shyam': 988777655}\n",
    "for i in a.items():\n",
    "    print (i)"
   ]
  },
  {
   "cell_type": "code",
   "execution_count": 31,
   "id": "445ecbd9",
   "metadata": {},
   "outputs": [
    {
     "data": {
      "text/plain": [
       "{'ram': 9887666, 'shyam': 988777655}"
      ]
     },
     "execution_count": 31,
     "metadata": {},
     "output_type": "execute_result"
    }
   ],
   "source": [
    "a= {'ram': 98776666, 'shyam': 988777655}\n",
    "a[\"ram\"]= 9887666\n",
    "a"
   ]
  },
  {
   "cell_type": "code",
   "execution_count": 34,
   "id": "615f2bbe",
   "metadata": {},
   "outputs": [
    {
     "data": {
      "text/plain": [
       "{'ram': 98776666, 'shyam': 988777655, 'sita': 988777778, 'rita': 9887777}"
      ]
     },
     "execution_count": 34,
     "metadata": {},
     "output_type": "execute_result"
    }
   ],
   "source": [
    "a= {'ram': 98776666, 'shyam': 988777655}\n",
    "b= {\"sita\":988777778, \"rita\":9887777}\n",
    "a.update(b)\n",
    "a"
   ]
  },
  {
   "cell_type": "code",
   "execution_count": null,
   "id": "5b8ac19f",
   "metadata": {},
   "outputs": [],
   "source": [
    "#delete in dict\n",
    "#del pop"
   ]
  },
  {
   "cell_type": "code",
   "execution_count": 35,
   "id": "1e65d7e2",
   "metadata": {},
   "outputs": [
    {
     "data": {
      "text/plain": [
       "{'shyam': 988777655}"
      ]
     },
     "execution_count": 35,
     "metadata": {},
     "output_type": "execute_result"
    }
   ],
   "source": [
    "a= {'ram': 98776666, 'shyam': 988777655}\n",
    "del a[\"ram\"]\n",
    "a"
   ]
  },
  {
   "cell_type": "code",
   "execution_count": 36,
   "id": "d5411297",
   "metadata": {},
   "outputs": [
    {
     "name": "stdout",
     "output_type": "stream",
     "text": [
      "98776666\n",
      "{'shyam': 988777655}\n"
     ]
    }
   ],
   "source": [
    "a= {'ram': 98776666, 'shyam': 988777655}\n",
    "b= a.pop(\"ram\")\n",
    "print(b)\n",
    "print(a)"
   ]
  },
  {
   "cell_type": "code",
   "execution_count": 39,
   "id": "f001f58d",
   "metadata": {},
   "outputs": [
    {
     "data": {
      "text/plain": [
       "[98776666, 98765545]"
      ]
     },
     "execution_count": 39,
     "metadata": {},
     "output_type": "execute_result"
    }
   ],
   "source": [
    "a= {'ram':[98776666, 98765545], 'shyam':[988777655,99877666555]}\n",
    "a[\"ram\"]"
   ]
  },
  {
   "cell_type": "code",
   "execution_count": 41,
   "id": "01fd59a1",
   "metadata": {},
   "outputs": [
    {
     "data": {
      "text/plain": [
       "{'name': ['ram', 'shyam', 'hari'],\n",
       " 'age': ['shyam', 'hari', 'rita'],\n",
       " 'add': ['kathmandu', 'sita', 'gita']}"
      ]
     },
     "execution_count": 41,
     "metadata": {},
     "output_type": "execute_result"
    }
   ],
   "source": [
    "a= {\"name\":[\"ram\",\"shyam\",\"hari\"], \n",
    "\"age\":[\"shyam\",\"hari\",\"rita\"],\n",
    "\"add\":[\"kathmandu\",\"sita\", \"gita\"]}\n",
    "a\n"
   ]
  },
  {
   "cell_type": "code",
   "execution_count": 46,
   "id": "b72b1e17",
   "metadata": {},
   "outputs": [
    {
     "name": "stdout",
     "output_type": "stream",
     "text": [
      "enter n= 2\n",
      "enter name= priyanka\n",
      "enter phone= 9876655\n",
      "enter address= biratnagar\n",
      "enter name= sita\n",
      "enter phone= 9787666362\n",
      "enter address= chitwan\n",
      "{'priyanka': [9876655, 'biratnagar'], 'sita': [9787666362, 'chitwan']}\n"
     ]
    }
   ],
   "source": [
    "a={}\n",
    "n= int(input(\"enter n= \"))\n",
    "for i in range(n):\n",
    "    name= input(\"enter name= \")\n",
    "    phone= int(input(\"enter phone= \"))\n",
    "    add= input(\"enter address= \")\n",
    "    a[name]= [phone,add]\n",
    "\n",
    "print(a)"
   ]
  },
  {
   "cell_type": "code",
   "execution_count": 47,
   "id": "a5179f7a",
   "metadata": {},
   "outputs": [
    {
     "name": "stdout",
     "output_type": "stream",
     "text": [
      "enter n= 2\n",
      "enter name= ram\n",
      "enter age= 32\n",
      "enter add= chitwan\n",
      "enter name= priyanka\n",
      "enter age= 34\n",
      "enter add= chitwan\n",
      "{'name': ['ram', 'priyanka'], 'age': [32, 34], 'add': ['chitwan', 'chitwan']}\n"
     ]
    }
   ],
   "source": [
    "a={\"name\":[],\"age\":[],\"add\":[]}\n",
    "n= int(input(\"enter n= \"))\n",
    "for i in range(n):\n",
    "    name= input(\"enter name= \")\n",
    "    age= int(input(\"enter age= \"))\n",
    "    add= input(\"enter add= \")\n",
    "    a[\"name\"].append(name)\n",
    "    a[\"age\"].append(age)\n",
    "    a[\"add\"].append(add)\n",
    "print(a)"
   ]
  },
  {
   "cell_type": "code",
   "execution_count": 48,
   "id": "4925cb72",
   "metadata": {},
   "outputs": [
    {
     "name": "stdout",
     "output_type": "stream",
     "text": [
      "name =  ram\n",
      "name =  32\n"
     ]
    }
   ],
   "source": [
    "a= {'name': ['ram', 'priyanka'], 'age': [32, 34], 'add': ['chitwan', 'chitwan']}\n",
    "print(\"name = \",a[\"name\"][0])\n",
    "print(\"name = \",a[\"age\"][0])"
   ]
  },
  {
   "cell_type": "code",
   "execution_count": null,
   "id": "b8c5f783",
   "metadata": {},
   "outputs": [],
   "source": [
    "l=[]\n",
    "n= int(input(\"enter n= \"))\n",
    "for i in range(n):\n",
    "    name = input(\"enter name= \")\n",
    "    age= int(input(\"enter age= \"))\n",
    "    add= input(\"enter add= \")\n",
    "    d= {\"name\":name, \"age\":age,\"add\":add}\n",
    "    l.append(d)\n",
    "print(l)"
   ]
  },
  {
   "cell_type": "code",
   "execution_count": null,
   "id": "a713b67c",
   "metadata": {},
   "outputs": [],
   "source": [
    "l={}\n",
    "n= int(input(\"enter n= \"))\n",
    "for i in range(1, n+1):\n",
    "    name = input(\"enter name= \")\n",
    "    age= int(input(\"enter age= \"))\n",
    "    add= input(\"enter add= \")\n",
    "    l[i] = {\"name\":name, \"age\":age,\"add\":add}\n",
    "\n",
    "print(l)"
   ]
  },
  {
   "cell_type": "code",
   "execution_count": null,
   "id": "152528e2",
   "metadata": {},
   "outputs": [],
   "source": []
  },
  {
   "cell_type": "code",
   "execution_count": null,
   "id": "18bb5260",
   "metadata": {},
   "outputs": [],
   "source": []
  }
 ],
 "metadata": {
  "kernelspec": {
   "display_name": "Python 3 (ipykernel)",
   "language": "python",
   "name": "python3"
  },
  "language_info": {
   "codemirror_mode": {
    "name": "ipython",
    "version": 3
   },
   "file_extension": ".py",
   "mimetype": "text/x-python",
   "name": "python",
   "nbconvert_exporter": "python",
   "pygments_lexer": "ipython3",
   "version": "3.11.7"
  }
 },
 "nbformat": 4,
 "nbformat_minor": 5
}
