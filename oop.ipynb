{
 "cells": [
  {
   "cell_type": "code",
   "execution_count": 2,
   "id": "88d61576",
   "metadata": {},
   "outputs": [
    {
     "name": "stdout",
     "output_type": "stream",
     "text": [
      "enter h= 3\n",
      "enter value l= 5\n",
      "enter value b= 6\n",
      "90\n"
     ]
    }
   ],
   "source": [
    "class Cal:\n",
    "    def volume(self,h):\n",
    "        l=int(input(\"enter value l= \"))\n",
    "        b= int(input(\"enter value b= \"))\n",
    "        v= l*b*h\n",
    "        print(v)\n",
    "obj = Cal()\n",
    "h = int(input(\"enter h= \"))\n",
    "obj.volume(h)"
   ]
  },
  {
   "cell_type": "code",
   "execution_count": null,
   "id": "b162e04a",
   "metadata": {},
   "outputs": [],
   "source": [
    "class<class_name1>:\n",
    "    <method>\n",
    "class<class_2>(class_name1>):\n",
    "    <method>\n",
    "obj= <class_name2>()\n"
   ]
  },
  {
   "cell_type": "code",
   "execution_count": null,
   "id": "da4334e1",
   "metadata": {},
   "outputs": [],
   "source": [
    "class A:        #parent class\n",
    "    pass\n",
    "class B(A):     #child class\n",
    "    pass\n",
    "obj=B()\n"
   ]
  },
  {
   "cell_type": "code",
   "execution_count": 4,
   "id": "5a10f961",
   "metadata": {},
   "outputs": [
    {
     "name": "stdout",
     "output_type": "stream",
     "text": [
      "hello world I amRam.I am from kathmandu. I am 34\n",
      "Ram 34 kathmandu\n"
     ]
    }
   ],
   "source": [
    "class Data:\n",
    "    def __init__(self):\n",
    "        self.name =\"Ram\"\n",
    "        self.age= 34\n",
    "        self.add= \"kathmandu\"\n",
    "        \n",
    "    def data(self):\n",
    "        print(self.name, self.age,self.add)\n",
    "\n",
    "class Info(Data):\n",
    "    def info(self):\n",
    "        print(f\"hello world I am{self.name}.I am from {self.add}. I am {self.age}\")\n",
    "obj= Info()\n",
    "obj.info()\n",
    "obj.data()"
   ]
  },
  {
   "cell_type": "code",
   "execution_count": 5,
   "id": "ed68f775",
   "metadata": {},
   "outputs": [
    {
     "name": "stdout",
     "output_type": "stream",
     "text": [
      "enter name= priyanka\n",
      "enter age= 34\n",
      "enter add= hongkong\n",
      "hello world I ampriyanka.I am from hongkong. I am 34\n",
      "priyanka 34 hongkong\n"
     ]
    }
   ],
   "source": [
    "class Data:\n",
    "    def __init__(self, name, age, add):\n",
    "        self.name =name\n",
    "        self.age= age\n",
    "        self.add= add\n",
    "        \n",
    "    def data(self):\n",
    "        print(self.name, self.age,self.add)\n",
    "\n",
    "class Info(Data):\n",
    "    def info(self):\n",
    "        print(f\"hello world I am {self.name}.I am from {self.add}. I am {self.age}\")\n",
    "\n",
    "name= input(\"enter name= \")\n",
    "age= int(input(\"enter age= \"))\n",
    "add= input(\"enter add= \")\n",
    "        \n",
    "        \n",
    "obj= Info(name, age, add)\n",
    "obj.info()\n",
    "obj.data()"
   ]
  },
  {
   "cell_type": "code",
   "execution_count": 1,
   "id": "4d79c336",
   "metadata": {},
   "outputs": [
    {
     "name": "stdout",
     "output_type": "stream",
     "text": [
      "enter l= 2\n",
      "enter b= 4\n",
      "8\n"
     ]
    }
   ],
   "source": [
    "class Cal:\n",
    "    def area(self):\n",
    "        l= int(input(\"enter l= \"))\n",
    "        b= int(input(\"enter b= \" ))\n",
    "        a= l*b\n",
    "        print(a)\n",
    "obj = Cal()\n",
    "obj.area()"
   ]
  },
  {
   "cell_type": "code",
   "execution_count": 3,
   "id": "8dc2430b",
   "metadata": {},
   "outputs": [
    {
     "name": "stdout",
     "output_type": "stream",
     "text": [
      "enter h= 4\n",
      "enter l= 10\n",
      "enter b= 20\n",
      "200\n"
     ]
    }
   ],
   "source": [
    "class Cal:\n",
    "    def volume(self, h):\n",
    "        l= int(input(\"enter l= \"))\n",
    "        b= int(input(\"enter b= \" ))\n",
    "        a= l*b\n",
    "        print(a)\n",
    "obj= Cal()\n",
    "h= int(input(\"enter h= \"))\n",
    "obj.volume(h)"
   ]
  },
  {
   "cell_type": "code",
   "execution_count": null,
   "id": "405a0ddb",
   "metadata": {},
   "outputs": [],
   "source": []
  }
 ],
 "metadata": {
  "kernelspec": {
   "display_name": "Python 3 (ipykernel)",
   "language": "python",
   "name": "python3"
  },
  "language_info": {
   "codemirror_mode": {
    "name": "ipython",
    "version": 3
   },
   "file_extension": ".py",
   "mimetype": "text/x-python",
   "name": "python",
   "nbconvert_exporter": "python",
   "pygments_lexer": "ipython3",
   "version": "3.11.7"
  }
 },
 "nbformat": 4,
 "nbformat_minor": 5
}
